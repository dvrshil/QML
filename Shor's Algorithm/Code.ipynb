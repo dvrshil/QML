{
 "cells": [
  {
   "cell_type": "code",
   "execution_count": 1,
   "id": "eadf8f8d-7372-4e1e-a410-4359a44b2138",
   "metadata": {},
   "outputs": [
    {
     "name": "stderr",
     "output_type": "stream",
     "text": [
      "<frozen importlib._bootstrap>:219: RuntimeWarning: scipy._lib.messagestream.MessageStream size changed, may indicate binary incompatibility. Expected 56 from C header, got 64 from PyObject\n"
     ]
    }
   ],
   "source": [
    "import numpy as np\n",
    "\n",
    "# Importing standard Qiskit libraries\n",
    "from qiskit import QuantumCircuit, transpile, Aer, IBMQ, assemble\n",
    "from qiskit.tools.jupyter import *\n",
    "from qiskit.visualization import *\n",
    "from ibm_quantum_widgets import *\n",
    "from qiskit.providers.aer import QasmSimulator\n",
    "from qiskit.quantum_info import Statevector\n",
    "\n",
    "sim = QasmSimulator() # making new simulator object\n",
    "\n",
    "# Loading the IBM Quantum account(s)\n",
    "\n",
    "provider = IBMQ.load_account()"
   ]
  },
  {
   "cell_type": "code",
   "execution_count": 2,
   "id": "780bf702-c5c5-4468-86d9-16da1ff20841",
   "metadata": {},
   "outputs": [],
   "source": [
    "from qiskit import QuantumCircuit"
   ]
  },
  {
   "cell_type": "code",
   "execution_count": 3,
   "id": "e2be14e0-fb35-4fde-9759-5a07f107b626",
   "metadata": {},
   "outputs": [],
   "source": [
    "# a similar code snippet as below can be used to run a ciruit on a real QC\n",
    "\n",
    "# from qiskit.providers.ibmq import least_busy\n",
    "# provider = IBMQ.load_account()\n",
    "\n",
    "# backend = least_busy(provider.backends(filters = lambda x: x.configuration().n_qubits >= (n+1) and not x.configuration().simulator and x.status().operational == 1))\n",
    "\n",
    "# print(\"least busy backend:\", backend)\n",
    "\n",
    "# job = execute(shor_program(n, m, a), backend = backend, shots = 1000, optimization_level = 3)"
   ]
  },
  {
   "cell_type": "code",
   "execution_count": 4,
   "id": "66e42c44-b611-4174-ae73-e7050899bb47",
   "metadata": {},
   "outputs": [],
   "source": [
    "from math import gcd\n",
    "from fractions import Fraction"
   ]
  },
  {
   "cell_type": "code",
   "execution_count": 40,
   "id": "134cd1c3-ebfa-4e9e-8e46-d7fd022adf2a",
   "metadata": {},
   "outputs": [],
   "source": [
    "def c_amod15(a, power):\n",
    "    \"\"\"Controlled multiplication by a mod 15\"\"\"\n",
    "    if a not in [2,4,7,8,11,13]:\n",
    "        raise ValueError(\"'a' must be 2,4,7,8,11 or 13\")\n",
    "    U = QuantumCircuit(4)        \n",
    "    for iteration in range(power):\n",
    "        if a in [2,13]:\n",
    "            U.swap(0,1)\n",
    "            U.swap(1,2)\n",
    "            U.swap(2,3)\n",
    "        if a in [7,8]:\n",
    "            U.swap(2,3)\n",
    "            U.swap(1,2)\n",
    "            U.swap(0,1)\n",
    "        if a in [4, 11]:\n",
    "            U.swap(1,3)\n",
    "            U.swap(0,2)\n",
    "        if a in [7,11,13]:\n",
    "            for q in range(4):\n",
    "                U.x(q)\n",
    "    U = U.to_gate()\n",
    "    U.name = \"%i^%i mod 15\" % (a, power)\n",
    "    c_U = U.control()\n",
    "    return c_U"
   ]
  },
  {
   "cell_type": "code",
   "execution_count": 45,
   "id": "93903c94-2851-43f8-8db3-2936f46ffa03",
   "metadata": {},
   "outputs": [
    {
     "data": {
      "text/plain": [
       "Instruction(name='c7^3 mod 15', num_qubits=5, num_clbits=0, params=[])"
      ]
     },
     "execution_count": 45,
     "metadata": {},
     "output_type": "execute_result"
    }
   ],
   "source": [
    "c_amod15(7, 3)\n"
   ]
  },
  {
   "cell_type": "code",
   "execution_count": null,
   "id": "158e487e-0c8d-4244-8da0-135e7a940b17",
   "metadata": {},
   "outputs": [],
   "source": [
    "def qft_dagger(n):\n",
    "    \"\"\"n-qubit QFTdagger the first n qubits in circ\"\"\"\n",
    "    \n",
    "    qc = QuantumCircuit(n)\n",
    "    # Don't forget the Swaps!\n",
    "    \n",
    "    for qubit in range(n//2):\n",
    "        qc.swap(qubit, n-qubit-1)\n",
    "    \n",
    "    for j in range(n):\n",
    "        for m in range(j):\n",
    "            qc.cp(-np.pi/float(2**(j-m)), m, j)\n",
    "        qc.h(j)\n",
    "    \n",
    "    qc.name = \"QFT†\"\n",
    "    \n",
    "    return qc\n",
    "\n",
    "qft_dagger(4).draw()\n",
    "\n",
    "#alternatively call QFT inverse using a code like this: given_circuit.append(QFT(len(measurement_qubits), do_swaps = True, inverse = True), measurement_qubits)"
   ]
  },
  {
   "cell_type": "code",
   "execution_count": 36,
   "id": "dc3d5f1d-2341-4284-834f-2ae5fffcf39b",
   "metadata": {},
   "outputs": [],
   "source": [
    "def qpe_amod15(a):\n",
    "    n_count = 1\n",
    "    qc = QuantumCircuit(4+n_count, n_count)\n",
    "    \n",
    "    for q in range(n_count):\n",
    "        qc.h(q)     # Initialize counting qubits in state |+>\n",
    "    qc.x(3+n_count) # And auxiliary register in state |1>\n",
    "    \n",
    "    for q in range(n_count): # Do controlled-U operations\n",
    "        qc.append(c_amod15(a, 2**q), \n",
    "                 [q] + [i+n_count for i in range(4)])\n",
    "    \n",
    "    qc.append(qft_dagger(n_count), range(n_count)) # Do inverse-QFT\n",
    "    qc.measure(range(n_count), range(n_count))\n",
    "    \n",
    "    # Simulate Results\n",
    "    aer_sim = Aer.get_backend('aer_simulator')\n",
    "    \n",
    "    # Setting memory=True below allows us to see a list of each sequential reading\n",
    "    t_qc = transpile(qc, aer_sim)\n",
    "    qobj = assemble(t_qc, shots=1)\n",
    "    \n",
    "    result = aer_sim.run(qobj, memory=True).result()\n",
    "    \n",
    "    readings = result.get_memory()\n",
    "    print(\"Register Reading: \" + readings[0])\n",
    "    \n",
    "    phase = int(readings[0],2)/(2**n_count)\n",
    "    print(\"Corresponding Phase: %f\" % phase)\n",
    "    \n",
    "    return phase"
   ]
  },
  {
   "cell_type": "code",
   "execution_count": 37,
   "id": "246e8941-f1c2-4009-b9cb-867912936d08",
   "metadata": {},
   "outputs": [
    {
     "name": "stdout",
     "output_type": "stream",
     "text": [
      "\n",
      "Attempt 1:\n",
      "Register Reading: 0\n",
      "Corresponding Phase: 0.000000\n",
      "Result: r = 1\n",
      "*** Non-trivial factor found: 3 ***\n"
     ]
    }
   ],
   "source": [
    "N = 15\n",
    "a = 2\n",
    "\n",
    "factor_found = False\n",
    "attempt = 0\n",
    "while not factor_found:\n",
    "    attempt += 1\n",
    "    print(\"\\nAttempt %i:\" % attempt)\n",
    "    \n",
    "    phase = qpe_amod15(a) # Phase = s/r\n",
    "    frac = Fraction(phase).limit_denominator(N) # Denominator should (hopefully!) tell us r\n",
    "    r = frac.denominator\n",
    "    print(\"Result: r = %i\" % r)\n",
    "    \n",
    "    if phase != 0:\n",
    "        # Guesses for factors are gcd(x^{r/2} ±1 , 15)\n",
    "        guesses = [gcd(a**(r//2)-1, N), gcd(a**(r//2)+1, N)]\n",
    "        print(\"Guessed Factors: %i and %i\" % (guesses[0], guesses[1]))\n",
    "    \n",
    "    for guess in guesses:\n",
    "            if guess not in [1,N] and (N % guess) == 0: # Check to see if guess is a factor\n",
    "                print(\"*** Non-trivial factor found: %i ***\" % guess)\n",
    "                factor_found = True"
   ]
  },
  {
   "cell_type": "code",
   "execution_count": 39,
   "id": "b7e44673-6248-436b-997c-a707d270734b",
   "metadata": {},
   "outputs": [
    {
     "data": {
      "image/png": "[encoded data removed]",
      "text/plain": [
       "<Figure size 1471.2x626.08 with 1 Axes>"
      ]
     },
     "execution_count": 39,
     "metadata": {},
     "output_type": "execute_result"
    }
   ],
   "source": [
    "n_count = 5\n",
    "qc = QuantumCircuit(4+n_count, n_count)\n",
    "\n",
    "for q in range(n_count):\n",
    "    qc.h(q)     # Initialize counting qubits in state |+>\n",
    "    \n",
    "qc.x(3+n_count) # And auxiliary register in state |1>\n",
    "\n",
    "for q in range(n_count): # Do controlled-U operations\n",
    "    qc.append(c_amod15(a, 2**q), \n",
    "             [q] + [i+n_count for i in range(4)])\n",
    "    \n",
    "qc.append(qft_dagger(n_count), range(n_count)) # Do inverse-QFT\n",
    "qc.measure(range(n_count), range(n_count))\n",
    "\n",
    "qc.draw()"
   ]
  },
  {
   "cell_type": "code",
   "execution_count": null,
   "id": "af7043c9-6bcb-4d7e-888a-fe27bbf5685f",
   "metadata": {},
   "outputs": [],
   "source": []
  }
 ],
 "metadata": {
  "kernelspec": {
   "display_name": "Python 3 (ipykernel)",
   "language": "python",
   "name": "python3"
  },
  "language_info": {
   "codemirror_mode": {
    "name": "ipython",
    "version": 3
   },
   "file_extension": ".py",
   "mimetype": "text/x-python",
   "name": "python",
   "nbconvert_exporter": "python",
   "pygments_lexer": "ipython3",
   "version": "3.8.13"
  },
  "widgets": {
   "application/vnd.jupyter.widget-state+json": {
    "state": {},
    "version_major": 2,
    "version_minor": 0
   }
  }
 },
 "nbformat": 4,
 "nbformat_minor": 5
}
