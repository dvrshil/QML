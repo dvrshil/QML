{
 "cells": [
  {
   "cell_type": "code",
   "execution_count": 1,
   "id": "eadf8f8d-7372-4e1e-a410-4359a44b2138",
   "metadata": {},
   "outputs": [
    {
     "name": "stderr",
     "output_type": "stream",
     "text": [
      "<frozen importlib._bootstrap>:219: RuntimeWarning: scipy._lib.messagestream.MessageStream size changed, may indicate binary incompatibility. Expected 56 from C header, got 64 from PyObject\n"
     ]
    }
   ],
   "source": [
    "import numpy as np\n",
    "\n",
    "# Importing standard Qiskit libraries\n",
    "from qiskit import QuantumCircuit, transpile, Aer, IBMQ\n",
    "from qiskit.tools.jupyter import *\n",
    "from qiskit.visualization import *\n",
    "from ibm_quantum_widgets import *\n",
    "from qiskit.providers.aer import QasmSimulator\n",
    "from qiskit.quantum_info import Statevector\n",
    "from qiskit import transpile\n",
    "\n",
    "sim = QasmSimulator() # making new simulator object\n",
    "\n",
    "# Loading the IBM Quantum account(s)\n",
    "\n",
    "provider = IBMQ.load_account()"
   ]
  },
  {
   "cell_type": "code",
   "execution_count": null,
   "id": "780bf702-c5c5-4468-86d9-16da1ff20841",
   "metadata": {},
   "outputs": [],
   "source": [
    "from qiskit import QuantumCircuit"
   ]
  },
  {
   "cell_type": "markdown",
   "id": "3f45faf7-f136-4bef-be6f-0105aee49a3c",
   "metadata": {},
   "source": [
    "# 1. Quantum Fourier Tranform:\n",
    "\n",
    "Converting computational basis to Fourier basis."
   ]
  },
  {
   "cell_type": "code",
   "execution_count": null,
   "id": "22e103eb-0926-4179-ba6a-ed0d2ae5634b",
   "metadata": {},
   "outputs": [],
   "source": [
    "def myQFT(nqubits):\n",
    "    circuit = QuantumCircuit(nqubits, name = '  myQFT  ')\n",
    "    \n",
    "    for n in range(nqubits): # for nth qubit\n",
    "        circuit.h(n)\n",
    "        for m in range(n+1, nqubits): #for all the other qubits\n",
    "            circuit.cp(np.pi/2**(m-n), m, n)\n",
    "                        \n",
    "    return circuit #output is in a reversed order of the input states\n",
    "                        \n",
    "myQFT(5).draw()"
   ]
  },
  {
   "cell_type": "code",
   "execution_count": null,
   "id": "5591cc17-2eee-419b-a05e-84ed8daa7d06",
   "metadata": {},
   "outputs": [],
   "source": [
    "n = 3\n",
    "\n",
    "myQFT5 = myQFT(n)"
   ]
  },
  {
   "cell_type": "code",
   "execution_count": null,
   "id": "1201d593-a263-448c-ac26-0529a88f5c22",
   "metadata": {},
   "outputs": [],
   "source": [
    "qc = QuantumCircuit(n)\n",
    "\n",
    "qc.x(0)\n",
    "#qc.x(1)\n",
    "#qc.x(2)\n",
    "#qc.x(3)\n",
    "#qc.x(4)\n",
    "\n",
    "qc.append(myQFT5, qc.qubits)"
   ]
  },
  {
   "cell_type": "code",
   "execution_count": null,
   "id": "66dd7b7a-4342-482b-ae94-09dcc1468c72",
   "metadata": {},
   "outputs": [],
   "source": [
    "qc.draw()"
   ]
  },
  {
   "cell_type": "code",
   "execution_count": null,
   "id": "b35ad550-028d-42b6-b99b-91f006e73bff",
   "metadata": {},
   "outputs": [],
   "source": [
    "ket = Statevector(qc)\n",
    "#ket.draw()\n",
    "ket.draw('latex')"
   ]
  },
  {
   "cell_type": "code",
   "execution_count": null,
   "id": "2760c887-90b1-4163-8352-e8a626dcd091",
   "metadata": {},
   "outputs": [],
   "source": [
    "#Use cmd+/ to uncomments lines of code below\n",
    "\n",
    "#note that the phase does not have observational effects\n",
    "\n",
    "qc.measure_all()\n",
    "\n",
    "from qiskit import execute\n",
    "\n",
    "counts = execute(qc, backend=sim, shots=1000).result().get_counts(qc)\n",
    "\n",
    "from qiskit.visualization import plot_histogram\n",
    "plot_histogram(counts)"
   ]
  },
  {
   "cell_type": "markdown",
   "id": "557703f2-a68e-4862-b9ec-5003d5fbb7c6",
   "metadata": {},
   "source": [
    "# 2. Quantum Phase Estimation\n",
    "\n",
    "We use Inverse Quantum Fourier Transform on the measurement qubits before final measurements"
   ]
  },
  {
   "cell_type": "code",
   "execution_count": 7,
   "id": "3bdd1442-dc2e-4bc3-9f90-556f4e654c5a",
   "metadata": {},
   "outputs": [],
   "source": [
    "def initialize_qubits(given_circuit, measurement_qubits, target_qubit):\n",
    "\n",
    "    given_circuit.h(measurement_qubits)\n",
    "    given_circuit.x(target_qubit)"
   ]
  },
  {
   "cell_type": "code",
   "execution_count": 8,
   "id": "22fb9bd3-e865-4e63-b827-7a23ccd79000",
   "metadata": {},
   "outputs": [],
   "source": [
    "import numpy as np\n",
    "pi = np.pi\n",
    "\n",
    "def unitary_operator(given_circuit, control_qubit, target_qubit, theta):\n",
    "    \n",
    "    given_circuit.cu1(2*pi*theta, control_qubit, target_qubit)"
   ]
  },
  {
   "cell_type": "code",
   "execution_count": 9,
   "id": "21ddeca5-5079-4310-815f-a458f39ce491",
   "metadata": {},
   "outputs": [],
   "source": [
    "def unitary_operator_exponent(given_circuit, control_qubit, target_qubit, theta, exponent):\n",
    "    \n",
    "    given_circuit.cu1(2*pi*theta*exponent, control_qubit, target_qubit)"
   ]
  },
  {
   "cell_type": "code",
   "execution_count": 10,
   "id": "65fe6509-2c56-41dc-9052-65f76854527d",
   "metadata": {},
   "outputs": [],
   "source": [
    "from qiskit.circuit.library import QFT\n",
    "\n",
    "def apply_iqft(given_circuit, measurement_qubits, n):\n",
    "     \n",
    "    given_circuit.append(QFT(n).inverse(), measurement_qubits)"
   ]
  },
  {
   "cell_type": "code",
   "execution_count": 11,
   "id": "8de96a30-957a-4cb2-b767-2d0903fcd19b",
   "metadata": {},
   "outputs": [
    {
     "name": "stderr",
     "output_type": "stream",
     "text": [
      "/tmp/ipykernel_329/1430307391.py:3: DeprecationWarning: The QuantumCircuit.cu1 method is deprecated as of 0.16.0. It will be removed no earlier than 3 months after the release date. You should use the QuantumCircuit.cp method instead, which acts identically.\n",
      "  given_circuit.cu1(2*pi*theta*exponent, control_qubit, target_qubit)\n"
     ]
    },
    {
     "data": {
      "text/html": [
       "<pre style=\"word-wrap: normal;white-space: pre;background: #fff0;line-height: 1.1;font-family: &quot;Courier New&quot;,Courier,monospace\">     ┌───┐                                             ┌───────┐┌─┐            \n",
       "q_0: ┤ H ├─■───────────────────────────────────────────┤0      ├┤M├────────────\n",
       "     ├───┤ │                                           │       │└╥┘┌─┐         \n",
       "q_1: ┤ H ├─┼─────────■─────────────────────────────────┤1      ├─╫─┤M├─────────\n",
       "     ├───┤ │         │                                 │       │ ║ └╥┘┌─┐      \n",
       "q_2: ┤ H ├─┼─────────┼────────■────────────────────────┤2 IQFT ├─╫──╫─┤M├──────\n",
       "     ├───┤ │         │        │                        │       │ ║  ║ └╥┘┌─┐   \n",
       "q_3: ┤ H ├─┼─────────┼────────┼────────■───────────────┤3      ├─╫──╫──╫─┤M├───\n",
       "     ├───┤ │         │        │        │               │       │ ║  ║  ║ └╥┘┌─┐\n",
       "q_4: ┤ H ├─┼─────────┼────────┼────────┼────────■──────┤4      ├─╫──╫──╫──╫─┤M├\n",
       "     ├───┤ │U1(16π)  │U1(8π)  │U1(4π)  │U1(2π)  │U1(π) └───────┘ ║  ║  ║  ║ └╥┘\n",
       "q_5: ┤ X ├─■─────────■────────■────────■────────■────────────────╫──╫──╫──╫──╫─\n",
       "     └───┘                                                       ║  ║  ║  ║  ║ \n",
       "c: 5/════════════════════════════════════════════════════════════╩══╩══╩══╩══╩═\n",
       "                                                                 0  1  2  3  4 </pre>"
      ],
      "text/plain": [
       "     ┌───┐                                             ┌───────┐┌─┐            \n",
       "q_0: ┤ H ├─■───────────────────────────────────────────┤0      ├┤M├────────────\n",
       "     ├───┤ │                                           │       │└╥┘┌─┐         \n",
       "q_1: ┤ H ├─┼─────────■─────────────────────────────────┤1      ├─╫─┤M├─────────\n",
       "     ├───┤ │         │                                 │       │ ║ └╥┘┌─┐      \n",
       "q_2: ┤ H ├─┼─────────┼────────■────────────────────────┤2 IQFT ├─╫──╫─┤M├──────\n",
       "     ├───┤ │         │        │                        │       │ ║  ║ └╥┘┌─┐   \n",
       "q_3: ┤ H ├─┼─────────┼────────┼────────■───────────────┤3      ├─╫──╫──╫─┤M├───\n",
       "     ├───┤ │         │        │        │               │       │ ║  ║  ║ └╥┘┌─┐\n",
       "q_4: ┤ H ├─┼─────────┼────────┼────────┼────────■──────┤4      ├─╫──╫──╫──╫─┤M├\n",
       "     ├───┤ │U1(16π)  │U1(8π)  │U1(4π)  │U1(2π)  │U1(π) └───────┘ ║  ║  ║  ║ └╥┘\n",
       "q_5: ┤ X ├─■─────────■────────■────────■────────■────────────────╫──╫──╫──╫──╫─\n",
       "     └───┘                                                       ║  ║  ║  ║  ║ \n",
       "c: 5/════════════════════════════════════════════════════════════╩══╩══╩══╩══╩═\n",
       "                                                                 0  1  2  3  4 "
      ]
     },
     "execution_count": 11,
     "metadata": {},
     "output_type": "execute_result"
    }
   ],
   "source": [
    "def qpe_program(n, theta):\n",
    "    \n",
    "    # Create a quantum circuit on n+1 qubits (n measurement, 1 target)\n",
    "    qc = QuantumCircuit(n+1, n)\n",
    "    \n",
    "    # Initialize the qubits\n",
    "    initialize_qubits(qc, range(n), n)\n",
    "    \n",
    "    # Apply the controlled unitary operators in sequence\n",
    "    for x in range(n):\n",
    "        exponent = 2**(n-x-1)\n",
    "        unitary_operator_exponent(qc, x, n, theta, exponent)\n",
    "        \n",
    "    # Apply the inverse quantum Fourier transform\n",
    "    apply_iqft(qc, range(n), n)\n",
    "    \n",
    "    # Measure all qubits\n",
    "    qc.measure(range(n), range(n))\n",
    "  \n",
    "    return qc\n",
    "\n",
    "n = 5; theta = 0.5\n",
    "mycircuit = qpe_program(n, theta)\n",
    "mycircuit.draw(output='text')"
   ]
  },
  {
   "cell_type": "code",
   "execution_count": 12,
   "id": "db879c2b-5db2-463b-8c08-d0eb793d7a89",
   "metadata": {},
   "outputs": [
    {
     "data": {
      "image/png": "[encoded data removed]",
      "text/plain": [
       "<Figure size 504x360 with 1 Axes>"
      ]
     },
     "execution_count": 12,
     "metadata": {},
     "output_type": "execute_result"
    }
   ],
   "source": [
    "from qiskit import Aer, execute\n",
    "simulator = Aer.get_backend('qasm_simulator')\n",
    "counts = execute(mycircuit, backend=simulator, shots=1000).result().get_counts(mycircuit)\n",
    "from qiskit.visualization import plot_histogram\n",
    "plot_histogram(counts)"
   ]
  },
  {
   "cell_type": "code",
   "execution_count": null,
   "id": "c2a142ad-479e-4e8f-8e5d-a064c148afc7",
   "metadata": {},
   "outputs": [],
   "source": []
  },
  {
   "cell_type": "code",
   "execution_count": 13,
   "id": "bf55c2d2-ba9a-426a-8443-4467a2282fb6",
   "metadata": {},
   "outputs": [
    {
     "name": "stdout",
     "output_type": "stream",
     "text": [
      "Using 5 qubits with theta = 0.50, measured_theta = 0.50.\n"
     ]
    }
   ],
   "source": [
    "import operator\n",
    "highest_probability_outcome = max(counts.items(), key=operator.itemgetter(1))[0][::-1]\n",
    "measured_theta = int(highest_probability_outcome, 2)/2**n # Phase Estimation gives 2**n times the theta\n",
    "print(\"Using %d qubits with theta = %.2f, measured_theta = %.2f.\" % (n, theta, measured_theta))"
   ]
  }
 ],
 "metadata": {
  "kernelspec": {
   "display_name": "Python 3 (ipykernel)",
   "language": "python",
   "name": "python3"
  },
  "language_info": {
   "codemirror_mode": {
    "name": "ipython",
    "version": 3
   },
   "file_extension": ".py",
   "mimetype": "text/x-python",
   "name": "python",
   "nbconvert_exporter": "python",
   "pygments_lexer": "ipython3",
   "version": "3.8.13"
  },
  "widgets": {
   "application/vnd.jupyter.widget-state+json": {
    "state": {
     "02b7126cb97c4c74ae5fe3c78306d2f7": {
      "model_module": "@jupyter-widgets/controls",
      "model_module_version": "1.5.0",
      "model_name": "DescriptionStyleModel",
      "state": {
       "description_width": ""
      }
     },
     "07061f91c22b4604b852a83f26074c8a": {
      "model_module": "@jupyter-widgets/controls",
      "model_module_version": "1.5.0",
      "model_name": "ButtonModel",
      "state": {
       "button_style": "primary",
       "description": "Clear",
       "layout": "IPY_MODEL_cccfa9f445714d2d9c59931c159ee30c",
       "style": "IPY_MODEL_f7a04c58f3864305b676dbcfd37a6b12"
      }
     },
     "1439c3d5c5d0426e9402b0b625961b9a": {
      "model_module": "@jupyter-widgets/base",
      "model_module_version": "1.2.0",
      "model_name": "LayoutModel",
      "state": {
       "width": "95px"
      }
     },
     "151bbe133b534dd9bef9e2ae1d2b0eea": {
      "model_module": "@jupyter-widgets/base",
      "model_module_version": "1.2.0",
      "model_name": "LayoutModel",
      "state": {
       "grid_template_areas": "\n                                       \". . . . right \"\n                                        ",
       "grid_template_columns": "20% 20% 20% 20% 20%",
       "width": "100%"
      }
     },
     "1a4a3c66973b4637a154ace7a908543c": {
      "model_module": "@jupyter-widgets/controls",
      "model_module_version": "1.5.0",
      "model_name": "HBoxModel",
      "state": {
       "children": [
        "IPY_MODEL_350e8808543a44d09a837282a88866d2",
        "IPY_MODEL_e323b7c49ed14aa6a1527089cd35bd4b",
        "IPY_MODEL_a4a2c5473ace460f93b9135bd6db1f07",
        "IPY_MODEL_e907c3a7827b4795b519888d4970df17",
        "IPY_MODEL_ff175561b94745efb25964bed11ae245"
       ],
       "layout": "IPY_MODEL_8828f1d747994c91870f3ca977bcd58e"
      }
     },
     "350e8808543a44d09a837282a88866d2": {
      "model_module": "@jupyter-widgets/controls",
      "model_module_version": "1.5.0",
      "model_name": "HTMLModel",
      "state": {
       "layout": "IPY_MODEL_76a71d4f251f425184cfef5165a1847c",
       "style": "IPY_MODEL_9c25d3b3441d4289b4ad9645b1a5f351",
       "value": "<h5>Job ID</h5>"
      }
     },
     "3b876a2bbcd0427e8e5ded208640fa85": {
      "model_module": "@jupyter-widgets/base",
      "model_module_version": "1.2.0",
      "model_name": "LayoutModel",
      "state": {
       "width": "145px"
      }
     },
     "45a6ce3a153b458a93d0e7950de23c5e": {
      "model_module": "@jupyter-widgets/controls",
      "model_module_version": "1.5.0",
      "model_name": "GridBoxModel",
      "state": {
       "children": [
        "IPY_MODEL_07061f91c22b4604b852a83f26074c8a"
       ],
       "layout": "IPY_MODEL_151bbe133b534dd9bef9e2ae1d2b0eea"
      }
     },
     "4f8f69a21e6a4e748715b09a3e043cdb": {
      "model_module": "@jupyter-widgets/base",
      "model_module_version": "1.2.0",
      "model_name": "LayoutModel",
      "state": {
       "width": "70px"
      }
     },
     "555e7af8910a4e45973607dc184ec364": {
      "model_module": "@jupyter-widgets/controls",
      "model_module_version": "1.5.0",
      "model_name": "DescriptionStyleModel",
      "state": {
       "description_width": ""
      }
     },
     "684091ef25534b17a5d67ad9705db44f": {
      "model_module": "@jupyter-widgets/controls",
      "model_module_version": "1.5.0",
      "model_name": "DescriptionStyleModel",
      "state": {
       "description_width": ""
      }
     },
     "6d61cbd3dcd44346a642b65841dc8048": {
      "model_module": "@jupyter-widgets/base",
      "model_module_version": "1.2.0",
      "model_name": "LayoutModel",
      "state": {}
     },
     "76a71d4f251f425184cfef5165a1847c": {
      "model_module": "@jupyter-widgets/base",
      "model_module_version": "1.2.0",
      "model_name": "LayoutModel",
      "state": {
       "width": "190px"
      }
     },
     "8828f1d747994c91870f3ca977bcd58e": {
      "model_module": "@jupyter-widgets/base",
      "model_module_version": "1.2.0",
      "model_name": "LayoutModel",
      "state": {
       "margin": "0px 0px 0px 37px",
       "width": "600px"
      }
     },
     "88d7bf6985424634ba720ffdc2da3027": {
      "model_module": "@jupyter-widgets/controls",
      "model_module_version": "1.5.0",
      "model_name": "HTMLModel",
      "state": {
       "layout": "IPY_MODEL_9df9af4c280b4f6f85e0d2e8e422d1c1",
       "style": "IPY_MODEL_963897c0b70047e88547a11e87774a1b",
       "value": "<p style='font-family: IBM Plex Sans, Arial, Helvetica, sans-serif; font-size: 20px; font-weight: medium;'>Circuit Properties</p>"
      }
     },
     "963897c0b70047e88547a11e87774a1b": {
      "model_module": "@jupyter-widgets/controls",
      "model_module_version": "1.5.0",
      "model_name": "DescriptionStyleModel",
      "state": {
       "description_width": ""
      }
     },
     "9c25d3b3441d4289b4ad9645b1a5f351": {
      "model_module": "@jupyter-widgets/controls",
      "model_module_version": "1.5.0",
      "model_name": "DescriptionStyleModel",
      "state": {
       "description_width": ""
      }
     },
     "9df9af4c280b4f6f85e0d2e8e422d1c1": {
      "model_module": "@jupyter-widgets/base",
      "model_module_version": "1.2.0",
      "model_name": "LayoutModel",
      "state": {
       "margin": "0px 0px 10px 0px"
      }
     },
     "a4a2c5473ace460f93b9135bd6db1f07": {
      "model_module": "@jupyter-widgets/controls",
      "model_module_version": "1.5.0",
      "model_name": "HTMLModel",
      "state": {
       "layout": "IPY_MODEL_1439c3d5c5d0426e9402b0b625961b9a",
       "style": "IPY_MODEL_555e7af8910a4e45973607dc184ec364",
       "value": "<h5>Status</h5>"
      }
     },
     "bf85ad37c82f4ff29c5148dc23c482fe": {
      "model_module": "@jupyter-widgets/controls",
      "model_module_version": "1.5.0",
      "model_name": "DescriptionStyleModel",
      "state": {
       "description_width": ""
      }
     },
     "cccfa9f445714d2d9c59931c159ee30c": {
      "model_module": "@jupyter-widgets/base",
      "model_module_version": "1.2.0",
      "model_name": "LayoutModel",
      "state": {
       "grid_area": "right",
       "padding": "0px 0px 0px 0px",
       "width": "70px"
      }
     },
     "e323b7c49ed14aa6a1527089cd35bd4b": {
      "model_module": "@jupyter-widgets/controls",
      "model_module_version": "1.5.0",
      "model_name": "HTMLModel",
      "state": {
       "layout": "IPY_MODEL_3b876a2bbcd0427e8e5ded208640fa85",
       "style": "IPY_MODEL_bf85ad37c82f4ff29c5148dc23c482fe",
       "value": "<h5>Backend</h5>"
      }
     },
     "e907c3a7827b4795b519888d4970df17": {
      "model_module": "@jupyter-widgets/controls",
      "model_module_version": "1.5.0",
      "model_name": "HTMLModel",
      "state": {
       "layout": "IPY_MODEL_4f8f69a21e6a4e748715b09a3e043cdb",
       "style": "IPY_MODEL_02b7126cb97c4c74ae5fe3c78306d2f7",
       "value": "<h5>Queue</h5>"
      }
     },
     "f7a04c58f3864305b676dbcfd37a6b12": {
      "model_module": "@jupyter-widgets/controls",
      "model_module_version": "1.5.0",
      "model_name": "ButtonStyleModel",
      "state": {}
     },
     "ff175561b94745efb25964bed11ae245": {
      "model_module": "@jupyter-widgets/controls",
      "model_module_version": "1.5.0",
      "model_name": "HTMLModel",
      "state": {
       "layout": "IPY_MODEL_6d61cbd3dcd44346a642b65841dc8048",
       "style": "IPY_MODEL_684091ef25534b17a5d67ad9705db44f",
       "value": "<h5>Message</h5>"
      }
     }
    },
    "version_major": 2,
    "version_minor": 0
   }
  }
 },
 "nbformat": 4,
 "nbformat_minor": 5
}
