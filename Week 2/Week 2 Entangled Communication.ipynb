{
 "cells": [
  {
   "cell_type": "code",
   "execution_count": 2,
   "id": "eadf8f8d-7372-4e1e-a410-4359a44b2138",
   "metadata": {},
   "outputs": [
    {
     "name": "stderr",
     "output_type": "stream",
     "text": [
      "<frozen importlib._bootstrap>:219: RuntimeWarning: scipy._lib.messagestream.MessageStream size changed, may indicate binary incompatibility. Expected 56 from C header, got 64 from PyObject\n"
     ]
    }
   ],
   "source": [
    "import numpy as np\n",
    "\n",
    "# Importing standard Qiskit libraries\n",
    "from qiskit import QuantumCircuit, transpile, Aer, IBMQ\n",
    "from qiskit.tools.jupyter import *\n",
    "from qiskit.visualization import *\n",
    "from ibm_quantum_widgets import *\n",
    "from qiskit.providers.aer import QasmSimulator\n",
    "from qiskit.quantum_info import Statevector\n",
    "sim = QasmSimulator() # making new simulator object\n",
    "\n",
    "\n",
    "# Loading the IBM Quantum account(s)\n",
    "provider = IBMQ.load_account()"
   ]
  },
  {
   "cell_type": "markdown",
   "id": "59325244-7ff0-42a3-adc3-5f74ad3bdf80",
   "metadata": {
    "tags": []
   },
   "source": [
    "# 1. Interpreting gates in various ways."
   ]
  },
  {
   "cell_type": "markdown",
   "id": "361a2c19-6459-4e35-82c0-fe2138b7b02a",
   "metadata": {
    "tags": []
   },
   "source": [
    "## 1.1: Understanding the CNOT gate"
   ]
  },
  {
   "cell_type": "code",
   "execution_count": 3,
   "id": "6f98da79-fabf-4e65-b503-76419fcb2600",
   "metadata": {},
   "outputs": [
    {
     "data": {
      "image/png": "[encoded data removed]",
      "text/plain": [
       "<Figure size 267.052x204.68 with 1 Axes>"
      ]
     },
     "execution_count": 3,
     "metadata": {},
     "output_type": "execute_result"
    }
   ],
   "source": [
    "qc = QuantumCircuit(2, 2)\n",
    "qc.cx(0,1)\n",
    "qc.measure([0,1],[0,1])\n",
    "qc.draw()"
   ]
  },
  {
   "cell_type": "code",
   "execution_count": 4,
   "id": "8fed4cff-a949-4ca2-819d-bcb838e1d296",
   "metadata": {},
   "outputs": [
    {
     "data": {
      "text/plain": [
       "{'00': 1024}"
      ]
     },
     "execution_count": 4,
     "metadata": {},
     "output_type": "execute_result"
    }
   ],
   "source": [
    "job = sim.run(qc)      # runing the experiment\n",
    "result = job.result()  # get the results\n",
    "result.get_counts() # no effect of cx on |00>"
   ]
  },
  {
   "cell_type": "code",
   "execution_count": 5,
   "id": "8ae5cbb7-e3da-41c4-9173-b8eef01de791",
   "metadata": {},
   "outputs": [
    {
     "data": {
      "image/png": "[encoded data removed]",
      "text/plain": [
       "<Figure size 267.052x204.68 with 1 Axes>"
      ]
     },
     "execution_count": 5,
     "metadata": {},
     "output_type": "execute_result"
    }
   ],
   "source": [
    "qc = QuantumCircuit(2, 2)\n",
    "qc.cx(1,0)\n",
    "qc.measure([0,1],[0,1])\n",
    "qc.draw() "
   ]
  },
  {
   "cell_type": "code",
   "execution_count": 6,
   "id": "1dccc681-64f7-4efb-8836-2cf5619d0400",
   "metadata": {},
   "outputs": [
    {
     "data": {
      "text/plain": [
       "{'00': 1024}"
      ]
     },
     "execution_count": 6,
     "metadata": {},
     "output_type": "execute_result"
    }
   ],
   "source": [
    "job = sim.run(qc)      # runing the experiment\n",
    "result = job.result()  # get the results\n",
    "result.get_counts() # no effect of cx on |00>, reversed"
   ]
  },
  {
   "cell_type": "code",
   "execution_count": 7,
   "id": "cc93a8c1-b6ee-4f5e-a8b5-88d1cb0e8449",
   "metadata": {},
   "outputs": [
    {
     "data": {
      "image/png": "[encoded data removed]",
      "text/plain": [
       "<Figure size 327.252x204.68 with 1 Axes>"
      ]
     },
     "execution_count": 7,
     "metadata": {},
     "output_type": "execute_result"
    }
   ],
   "source": [
    "qc = QuantumCircuit(2, 2)\n",
    "qc.x(0)\n",
    "qc.cx(0,1)\n",
    "qc.measure([0,1],[0,1])\n",
    "qc.draw()"
   ]
  },
  {
   "cell_type": "code",
   "execution_count": 8,
   "id": "d81bf78f-838e-41b2-8260-7b628647d2f6",
   "metadata": {},
   "outputs": [
    {
     "data": {
      "text/plain": [
       "{'11': 1024}"
      ]
     },
     "execution_count": 8,
     "metadata": {},
     "output_type": "execute_result"
    }
   ],
   "source": [
    "job = sim.run(qc)      # runing the experiment\n",
    "result = job.result()  # get the results\n",
    "result.get_counts() #affects |10>"
   ]
  },
  {
   "cell_type": "code",
   "execution_count": 9,
   "id": "300a5433-5aca-4768-8d8b-5b4764f11506",
   "metadata": {},
   "outputs": [
    {
     "data": {
      "image/png": "[encoded data removed]",
      "text/plain": [
       "<Figure size 327.252x204.68 with 1 Axes>"
      ]
     },
     "execution_count": 9,
     "metadata": {},
     "output_type": "execute_result"
    }
   ],
   "source": [
    "qc = QuantumCircuit(2, 2)\n",
    "qc.h(0)\n",
    "qc.cx(0,1)\n",
    "qc.measure([0,1],[0,1])\n",
    "qc.draw()"
   ]
  },
  {
   "cell_type": "code",
   "execution_count": 10,
   "id": "82391b95-b6c5-4ba4-ac3e-be1717881129",
   "metadata": {},
   "outputs": [
    {
     "data": {
      "text/plain": [
       "{'00': 509, '11': 515}"
      ]
     },
     "execution_count": 10,
     "metadata": {},
     "output_type": "execute_result"
    }
   ],
   "source": [
    "job = sim.run(qc)      # runing the experiment\n",
    "result = job.result()  # get the results\n",
    "result.get_counts() #we get an entagled state with (H)(cx) [here, its |phi.plus>]\n",
    "# [cx]|+0> = |phi.plus>"
   ]
  },
  {
   "cell_type": "markdown",
   "id": "8084ebd5-e2c2-4581-a35f-aeb325cabd26",
   "metadata": {},
   "source": [
    "## 1.2: Understanding the CZ gate"
   ]
  },
  {
   "cell_type": "code",
   "execution_count": 11,
   "id": "03337a51-bd22-43ce-a449-b1b35893d25f",
   "metadata": {},
   "outputs": [
    {
     "data": {
      "image/png": "[encoded data removed]",
      "text/plain": [
       "<Figure size 267.052x204.68 with 1 Axes>"
      ]
     },
     "execution_count": 11,
     "metadata": {},
     "output_type": "execute_result"
    }
   ],
   "source": [
    "qc = QuantumCircuit(2, 2)\n",
    "qc.cz(0,1)\n",
    "qc.measure([0,1],[0,1])\n",
    "qc.draw() "
   ]
  },
  {
   "cell_type": "code",
   "execution_count": 12,
   "id": "aafd7d16-8582-44bc-b8b3-0dda20e2e7a8",
   "metadata": {},
   "outputs": [
    {
     "data": {
      "text/plain": [
       "{'00': 1024}"
      ]
     },
     "execution_count": 12,
     "metadata": {},
     "output_type": "execute_result"
    }
   ],
   "source": [
    "job = sim.run(qc)      # runing the experiment\n",
    "result = job.result()  # get the results\n",
    "result.get_counts() # no effect of cz on |00>"
   ]
  },
  {
   "cell_type": "code",
   "execution_count": 13,
   "id": "37d1892f-c6f5-4001-ae72-4725cb05e668",
   "metadata": {},
   "outputs": [
    {
     "data": {
      "image/png": "[encoded data removed]",
      "text/plain": [
       "<Figure size 327.252x204.68 with 1 Axes>"
      ]
     },
     "execution_count": 13,
     "metadata": {},
     "output_type": "execute_result"
    }
   ],
   "source": [
    "qc = QuantumCircuit(2, 2)\n",
    "qc.x(0)\n",
    "qc.cz(0,1)\n",
    "qc.measure([0,1],[0,1])\n",
    "qc.draw() "
   ]
  },
  {
   "cell_type": "code",
   "execution_count": 14,
   "id": "0cd3e1bc-7e71-45d9-ba26-e0bd8e6cad0a",
   "metadata": {},
   "outputs": [
    {
     "data": {
      "text/plain": [
       "{'01': 1024}"
      ]
     },
     "execution_count": 14,
     "metadata": {},
     "output_type": "execute_result"
    }
   ],
   "source": [
    "job = sim.run(qc)\n",
    "result = job.result()\n",
    "result.get_counts() # no effect of cz on |01>"
   ]
  },
  {
   "cell_type": "code",
   "execution_count": 15,
   "id": "206ec9dd-b88d-4706-8591-cfe01b58755a",
   "metadata": {},
   "outputs": [
    {
     "data": {
      "image/png": "[encoded data removed]",
      "text/plain": [
       "<Figure size 327.252x204.68 with 1 Axes>"
      ]
     },
     "execution_count": 15,
     "metadata": {},
     "output_type": "execute_result"
    }
   ],
   "source": [
    "qc = QuantumCircuit(2, 2)\n",
    "qc.x(1)\n",
    "qc.cz(0,1)\n",
    "qc.measure([0,1],[0,1])\n",
    "qc.draw() "
   ]
  },
  {
   "cell_type": "code",
   "execution_count": 16,
   "id": "091bf79c-f5aa-4e1f-98bc-ac8a8d500555",
   "metadata": {},
   "outputs": [
    {
     "data": {
      "text/plain": [
       "{'10': 1024}"
      ]
     },
     "execution_count": 16,
     "metadata": {},
     "output_type": "execute_result"
    }
   ],
   "source": [
    "job = sim.run(qc)\n",
    "result = job.result()\n",
    "result.get_counts() # no effect of cz on |10> (symmetry, interpret as target-contro, or not)"
   ]
  },
  {
   "cell_type": "code",
   "execution_count": 17,
   "id": "10ad821b-56a4-4d3b-ab27-aee8c4bc4d21",
   "metadata": {},
   "outputs": [
    {
     "data": {
      "image/png": "[encoded data removed]",
      "text/plain": [
       "<Figure size 327.252x204.68 with 1 Axes>"
      ]
     },
     "execution_count": 17,
     "metadata": {},
     "output_type": "execute_result"
    }
   ],
   "source": [
    "qc = QuantumCircuit(2, 2)\n",
    "qc.x(0)\n",
    "qc.x(1)\n",
    "qc.cz(0,1)\n",
    "qc.measure([0,1],[0,1])\n",
    "qc.draw() "
   ]
  },
  {
   "cell_type": "code",
   "execution_count": 18,
   "id": "7cf21453-4241-4e44-b378-79db7cd89feb",
   "metadata": {},
   "outputs": [
    {
     "data": {
      "text/plain": [
       "{'11': 1024}"
      ]
     },
     "execution_count": 18,
     "metadata": {},
     "output_type": "execute_result"
    }
   ],
   "source": [
    "job = sim.run(qc)\n",
    "result = job.result()\n",
    "result.get_counts() # no effect of cx on |11>? (not really)"
   ]
  },
  {
   "cell_type": "code",
   "execution_count": 19,
   "id": "63c0fbf2-3b9f-4afc-9536-878530a87d28",
   "metadata": {},
   "outputs": [
    {
     "data": {
      "text/plain": [
       "'Statevector([ 0.+0.j,  0.+0.j,  0.+0.j, -1.+0.j],\\n            dims=(2, 2))'"
      ]
     },
     "execution_count": 19,
     "metadata": {},
     "output_type": "execute_result"
    }
   ],
   "source": [
    "qc = QuantumCircuit(2)\n",
    "qc.x(0)\n",
    "qc.x(1)\n",
    "qc.cz(0,1)\n",
    "\n",
    "ket = Statevector(qc)\n",
    "\n",
    "ket.draw() # although we can only measure 11 when we do a measurement, the phase of qubits has changed!"
   ]
  },
  {
   "cell_type": "markdown",
   "id": "59608290-4b10-432b-a525-e298af70cac5",
   "metadata": {},
   "source": [
    "## 1.3: Alternate interpretations"
   ]
  },
  {
   "cell_type": "code",
   "execution_count": 24,
   "id": "90e4862e-1f84-4086-a2b9-3d4f9ffd2e94",
   "metadata": {},
   "outputs": [
    {
     "data": {
      "image/png": "[encoded data removed]",
      "text/plain": [
       "<Figure size 327.252x204.68 with 1 Axes>"
      ]
     },
     "execution_count": 24,
     "metadata": {},
     "output_type": "execute_result"
    }
   ],
   "source": [
    "# applying a CNOT or CX to |++>\n",
    "\n",
    "qc = QuantumCircuit(2, 2)\n",
    "qc.h(0)\n",
    "qc.h(1)\n",
    "qc.cx(0,1)\n",
    "qc.measure([0,1],[0,1])\n",
    "qc.draw()"
   ]
  },
  {
   "cell_type": "code",
   "execution_count": 25,
   "id": "1a6a8f4e-7101-4106-899a-8929bd35780d",
   "metadata": {},
   "outputs": [
    {
     "data": {
      "text/plain": [
       "{'01': 262, '11': 235, '00': 259, '10': 268}"
      ]
     },
     "execution_count": 25,
     "metadata": {},
     "output_type": "execute_result"
    }
   ],
   "source": [
    "job = sim.run(qc)\n",
    "result = job.result()\n",
    "result.get_counts() #no effect"
   ]
  },
  {
   "cell_type": "code",
   "execution_count": 26,
   "id": "6ea41364-b00d-43f2-9e09-40dfe9ddb66e",
   "metadata": {},
   "outputs": [
    {
     "data": {
      "image/png": "[encoded data removed]",
      "text/plain": [
       "<Figure size 387.452x204.68 with 1 Axes>"
      ]
     },
     "execution_count": 26,
     "metadata": {},
     "output_type": "execute_result"
    }
   ],
   "source": [
    "qc = QuantumCircuit(2, 2)\n",
    "qc.h(0)\n",
    "qc.h(1)\n",
    "qc.z(0) #changing the target to |-> state\n",
    "qc.cnot(0,1)\n",
    "qc.measure([0,1],[0,1])\n",
    "qc.draw()"
   ]
  },
  {
   "cell_type": "code",
   "execution_count": 27,
   "id": "5a4f3428-0901-4ff5-aa30-e9a24f831401",
   "metadata": {},
   "outputs": [
    {
     "data": {
      "text/plain": [
       "{'11': 255, '00': 260, '10': 268, '01': 241}"
      ]
     },
     "execution_count": 27,
     "metadata": {},
     "output_type": "execute_result"
    }
   ],
   "source": [
    "job = sim.run(qc)\n",
    "result = job.result()\n",
    "result.get_counts() #no effect on measurements"
   ]
  },
  {
   "cell_type": "code",
   "execution_count": 29,
   "id": "94277434-6941-404e-a70c-e2c52898f4b3",
   "metadata": {},
   "outputs": [
    {
     "data": {
      "text/plain": [
       "'Statevector([ 0.5+0.j, -0.5+0.j, -0.5+0.j,  0.5+0.j],\\n            dims=(2, 2))'"
      ]
     },
     "execution_count": 29,
     "metadata": {},
     "output_type": "execute_result"
    }
   ],
   "source": [
    "qc = QuantumCircuit(2, 2)\n",
    "qc.h(0)\n",
    "qc.h(1)\n",
    "qc.z(0)\n",
    "qc.cnot(1,0)\n",
    "qc.draw()\n",
    "\n",
    "ket = Statevector(qc)\n",
    "ket.draw() #we see |+-> is converted to |-->, also known as 'phase kickback'"
   ]
  },
  {
   "cell_type": "markdown",
   "id": "0629bfe1-4782-4e84-9e2b-9de5a64cfb2c",
   "metadata": {
    "tags": []
   },
   "source": [
    "### Quantum Communication: Use 2 qubits to transmit 2 bits?"
   ]
  },
  {
   "cell_type": "code",
   "execution_count": 3,
   "id": "ffb2b1f3-158f-4193-8315-7f00ec5d1057",
   "metadata": {},
   "outputs": [],
   "source": [
    "# Define a 2-bit message\n",
    "MESSAGE = '11'\n",
    "\n",
    "# Alice encodes the message\n",
    "qc_alice = QuantumCircuit(2, 2)\n",
    "if MESSAGE[-1]=='1':\n",
    "    qc_alice.x(0)\n",
    "if MESSAGE[-2]=='1':\n",
    "    qc_alice.x(1)"
   ]
  },
  {
   "cell_type": "code",
   "execution_count": 4,
   "id": "c6d3f3dd-449d-4590-b27f-dade013d599a",
   "metadata": {},
   "outputs": [
    {
     "data": {
      "text/plain": [
       "{'11': 1024}"
      ]
     },
     "execution_count": 4,
     "metadata": {},
     "output_type": "execute_result"
    }
   ],
   "source": [
    "from qiskit import Aer\n",
    "backend = Aer.get_backend('aer_simulator')\n",
    "\n",
    "# Bob measures\n",
    "qc_bob = QuantumCircuit(2,2)\n",
    "qc_bob.measure([0,1],[0,1])\n",
    "\n",
    "backend.run(qc_alice.compose(qc_bob)).result().get_counts()"
   ]
  },
  {
   "cell_type": "markdown",
   "id": "28683736-f08d-428d-ab38-272f5bc1c954",
   "metadata": {},
   "source": [
    "# 2. Entanglement\n",
    "\n",
    "## 2.1: Entaglement after encoding"
   ]
  },
  {
   "cell_type": "code",
   "execution_count": 54,
   "id": "019cd4d5-c949-49ad-a34c-a8d108d94738",
   "metadata": {},
   "outputs": [
    {
     "data": {
      "text/plain": [
       "'Statevector([0.        +0.j, 0.70710678+0.j, 0.70710678+0.j,\\n             0.        +0.j],\\n            dims=(2, 2))'"
      ]
     },
     "execution_count": 54,
     "metadata": {},
     "output_type": "execute_result"
    }
   ],
   "source": [
    "MESSAGE = '01'\n",
    "\n",
    "qc_alice = QuantumCircuit(2,2)\n",
    "\n",
    "# Alice encodes the message\n",
    "if MESSAGE[-1]=='1':\n",
    "    qc_alice.x(0)\n",
    "if MESSAGE[-2]=='1':\n",
    "    qc_alice.x(1)\n",
    "\n",
    "# then she creates entangled states\n",
    "qc_alice.h(1)\n",
    "qc_alice.cx(1,0)\n",
    "\n",
    "ket = Statevector(qc_alice)\n",
    "ket.draw() # no real advantage here"
   ]
  },
  {
   "cell_type": "code",
   "execution_count": 55,
   "id": "30f0a2db-22ea-44c6-ab1d-4aa67773d7d9",
   "metadata": {},
   "outputs": [
    {
     "data": {
      "text/plain": [
       "{'01': 1024}"
      ]
     },
     "execution_count": 55,
     "metadata": {},
     "output_type": "execute_result"
    }
   ],
   "source": [
    "qc_bob = QuantumCircuit(2,2)\n",
    "qc_bob.cx(1,0)\n",
    "qc_bob.h(1)\n",
    "qc_bob.measure([0,1],[0,1])\n",
    "\n",
    "backend.run(qc_alice.compose(qc_bob)).result().get_counts()"
   ]
  },
  {
   "cell_type": "markdown",
   "id": "8292e85b-c1ef-417a-afcc-b8f3b5d5bc11",
   "metadata": {},
   "source": [
    "## 2.2: A different implementation of 2.1"
   ]
  },
  {
   "cell_type": "code",
   "execution_count": 7,
   "id": "32804b0d-1df5-4eea-b532-9e027c569dff",
   "metadata": {},
   "outputs": [
    {
     "data": {
      "text/plain": [
       "'Statevector([0.70710678+0.j, 0.        +0.j, 0.        +0.j,\\n             0.70710678+0.j],\\n            dims=(2, 2))'"
      ]
     },
     "execution_count": 7,
     "metadata": {},
     "output_type": "execute_result"
    }
   ],
   "source": [
    "MESSAGE = '00'\n",
    "\n",
    "qc_alice = QuantumCircuit(2,2)\n",
    "qc_alice.h(1)\n",
    "qc_alice.cx(1,0)\n",
    "\n",
    "if MESSAGE[-2]=='1':\n",
    "    qc_alice.z(1)\n",
    "if MESSAGE[-1]=='1': #this method can work by manipulating only one qubit\n",
    "    qc_alice.x(1)\n",
    "\n",
    "ket = Statevector(qc_alice)\n",
    "ket.draw()"
   ]
  },
  {
   "cell_type": "code",
   "execution_count": 8,
   "id": "82e1a5b5-70ae-4913-b5f8-d92bdcfd5cee",
   "metadata": {},
   "outputs": [
    {
     "data": {
      "text/plain": [
       "{'11': 509, '00': 515}"
      ]
     },
     "execution_count": 8,
     "metadata": {},
     "output_type": "execute_result"
    }
   ],
   "source": [
    "backend.run(qc_alice.compose(qc_bob)).result().get_counts() #Bob doesnt need to change his circuit"
   ]
  },
  {
   "cell_type": "markdown",
   "id": "f29deeea-095e-461a-90d3-09014dfdb6fb",
   "metadata": {},
   "source": [
    "## 2.3: What if it involves a third party?"
   ]
  },
  {
   "cell_type": "code",
   "execution_count": 64,
   "id": "b290ced7-f39d-4f80-891a-f3f7ca9bdfdc",
   "metadata": {},
   "outputs": [
    {
     "data": {
      "image/png": "[encoded data removed]",
      "text/plain": [
       "<Figure size 206.852x204.68 with 1 Axes>"
      ]
     },
     "execution_count": 64,
     "metadata": {},
     "output_type": "execute_result"
    }
   ],
   "source": [
    "# Imagine a third party: Charlie creates an enatgled state\n",
    "# sends the secoond qubit directly to Bob and th first qubit to Alice\n",
    "\n",
    "qc_charlie = QuantumCircuit(2,2)\n",
    "\n",
    "qc_charlie.h(1)\n",
    "qc_charlie.cx(1,0)\n",
    "\n",
    "qc_charlie.draw()"
   ]
  },
  {
   "cell_type": "code",
   "execution_count": 21,
   "id": "07290c97-e487-4b74-92c3-43117949e90a",
   "metadata": {},
   "outputs": [],
   "source": [
    "# Alice can encode a 2-qubit messsage and send it to Bob just using one qubit\n",
    "\n",
    "MESSAGE = '01'\n",
    "\n",
    "qc_alice = QuantumCircuit(2,2)\n",
    "\n",
    "if MESSAGE[-2]=='1':\n",
    "    qc_alice.z(1)\n",
    "if MESSAGE[-1]=='1':\n",
    "    qc_alice.x(1)"
   ]
  },
  {
   "cell_type": "code",
   "execution_count": 22,
   "id": "c27e567c-7620-4b42-9ade-c9d77991c2ca",
   "metadata": {},
   "outputs": [
    {
     "data": {
      "text/plain": [
       "{'01': 1024}"
      ]
     },
     "execution_count": 22,
     "metadata": {},
     "output_type": "execute_result"
    }
   ],
   "source": [
    "# Bob can run the standard mesurement procedure\n",
    "\n",
    "complete_qc = qc_charlie.compose(qc_alice.compose(qc_bob))\n",
    "backend.run(complete_qc).result().get_counts()"
   ]
  },
  {
   "cell_type": "markdown",
   "id": "a04a2c8c-d78c-4e1f-a309-aa3a615d59a2",
   "metadata": {},
   "source": [
    "# 3. Types of quantum measurements"
   ]
  },
  {
   "cell_type": "code",
   "execution_count": 23,
   "id": "8deb6398-9aa0-4a98-a3ce-8499a5c1f97e",
   "metadata": {},
   "outputs": [
    {
     "data": {
      "image/png": "[encoded data removed]",
      "text/plain": [
       "<Figure size 133.526x144.48 with 1 Axes>"
      ]
     },
     "execution_count": 23,
     "metadata": {},
     "output_type": "execute_result"
    }
   ],
   "source": [
    "# the standard mesurement is also known as z mesurement\n",
    "\n",
    "meas_z = QuantumCircuit(1,1)\n",
    "meas_z.measure(0,0)\n",
    "\n",
    "meas_z.draw()"
   ]
  },
  {
   "cell_type": "code",
   "execution_count": 66,
   "id": "898a62cb-10d9-43e1-ae71-8d67ade9dcdc",
   "metadata": {},
   "outputs": [
    {
     "data": {
      "image/png": "[encoded data removed]",
      "text/plain": [
       "<Figure size 193.726x144.48 with 1 Axes>"
      ]
     },
     "execution_count": 66,
     "metadata": {},
     "output_type": "execute_result"
    }
   ],
   "source": [
    "# appling a z gate just before the measurement is known as x mesurement\n",
    "\n",
    "meas_x = QuantumCircuit(1,1)\n",
    "meas_x.h(0)\n",
    "meas_x.measure(0,0)\n",
    "\n",
    "meas_x.draw()"
   ]
  },
  {
   "cell_type": "code",
   "execution_count": 25,
   "id": "b73db7bf-db97-47d1-8793-51031f1c6213",
   "metadata": {},
   "outputs": [
    {
     "data": {
      "image/png": "[encoded data removed]",
      "text/plain": [
       "<Figure size 103.426x144.48 with 1 Axes>"
      ]
     },
     "execution_count": 25,
     "metadata": {},
     "output_type": "execute_result"
    }
   ],
   "source": [
    "# mesurements on |0> state\n",
    "\n",
    "qc = QuantumCircuit(1,1)\n",
    "\n",
    "qc.draw()"
   ]
  },
  {
   "cell_type": "code",
   "execution_count": 26,
   "id": "92c79a9a-e0b7-46a9-aaed-8d022a1590b3",
   "metadata": {},
   "outputs": [
    {
     "name": "stdout",
     "output_type": "stream",
     "text": [
      "Results from z measurement: {'0': 1024}\n",
      "Results from x measurement: {'0': 541, '1': 483}\n"
     ]
    }
   ],
   "source": [
    "for basis,circ in [('z', meas_z), ('x', meas_x)]:\n",
    "    print('Results from ' + basis + ' measurement:',\n",
    "      backend.run(qc.compose(circ)).result().get_counts())"
   ]
  },
  {
   "cell_type": "code",
   "execution_count": 27,
   "id": "93a4ffa4-a98e-4c51-9654-596da4a09249",
   "metadata": {},
   "outputs": [
    {
     "data": {
      "image/png": "[encoded data removed]",
      "text/plain": [
       "<Figure size 133.526x144.48 with 1 Axes>"
      ]
     },
     "execution_count": 27,
     "metadata": {},
     "output_type": "execute_result"
    }
   ],
   "source": [
    "# mesurements on |1> state\n",
    "\n",
    "qc = QuantumCircuit(1,1)\n",
    "qc.x(0)\n",
    "\n",
    "qc.draw()"
   ]
  },
  {
   "cell_type": "code",
   "execution_count": 28,
   "id": "c59de035-3be4-49fa-9454-b8ce873ef2ea",
   "metadata": {},
   "outputs": [
    {
     "name": "stdout",
     "output_type": "stream",
     "text": [
      "Results from z measurement: {'1': 1024}\n",
      "Results from x measurement: {'0': 506, '1': 518}\n"
     ]
    }
   ],
   "source": [
    "for basis,circ in [('z', meas_z), ('x', meas_x)]:\n",
    "    print('Results from ' + basis + ' measurement:',\n",
    "      backend.run(qc.compose(circ)).result().get_counts())"
   ]
  },
  {
   "cell_type": "code",
   "execution_count": 29,
   "id": "515dbc93-8896-4182-8073-cb0ad63bacd9",
   "metadata": {},
   "outputs": [
    {
     "data": {
      "image/png": "[encoded data removed]",
      "text/plain": [
       "<Figure size 133.526x144.48 with 1 Axes>"
      ]
     },
     "execution_count": 29,
     "metadata": {},
     "output_type": "execute_result"
    }
   ],
   "source": [
    "# mesurements on |+> state\n",
    "\n",
    "qc = QuantumCircuit(1,1)\n",
    "qc.h(0)\n",
    "\n",
    "qc.draw()"
   ]
  },
  {
   "cell_type": "code",
   "execution_count": 30,
   "id": "864f3505-3087-413d-a749-133f1ea46a02",
   "metadata": {},
   "outputs": [
    {
     "name": "stdout",
     "output_type": "stream",
     "text": [
      "Results from z measurement: {'1': 520, '0': 504}\n",
      "Results from x measurement: {'0': 1024}\n"
     ]
    }
   ],
   "source": [
    "for basis,circ in [('z', meas_z), ('x', meas_x)]:\n",
    "    print('Results from ' + basis + ' measurement:',\n",
    "      backend.run(qc.compose(circ)).result().get_counts())"
   ]
  },
  {
   "cell_type": "code",
   "execution_count": 31,
   "id": "ef478038-a5f3-4810-845b-68e6a5157678",
   "metadata": {},
   "outputs": [
    {
     "name": "stdout",
     "output_type": "stream",
     "text": [
      "Results from z measurement: {'1': 148, '0': 876}\n",
      "Results from x measurement: {'0': 162, '1': 862}\n"
     ]
    }
   ],
   "source": [
    "from math import pi\n",
    "\n",
    "qc = QuantumCircuit(1, 1)\n",
    "qc.ry(-pi/4, 0) #-pi/4 rotation\n",
    "\n",
    "for basis,circ in [('z', meas_z), ('x', meas_x)]:\n",
    "    print('Results from ' + basis + ' measurement:',\n",
    "      backend.run(qc.compose(circ)).result().get_counts())"
   ]
  },
  {
   "cell_type": "code",
   "execution_count": null,
   "id": "833d2c96-893d-424f-ae91-0eaf84fcc0f4",
   "metadata": {},
   "outputs": [],
   "source": []
  }
 ],
 "metadata": {
  "kernelspec": {
   "display_name": "Python 3 (ipykernel)",
   "language": "python",
   "name": "python3"
  },
  "language_info": {
   "codemirror_mode": {
    "name": "ipython",
    "version": 3
   },
   "file_extension": ".py",
   "mimetype": "text/x-python",
   "name": "python",
   "nbconvert_exporter": "python",
   "pygments_lexer": "ipython3",
   "version": "3.8.13"
  },
  "widgets": {
   "application/vnd.jupyter.widget-state+json": {
    "state": {
     "06389953f2de4dcfa1073f6e9154de64": {
      "model_module": "@jupyter-widgets/base",
      "model_module_version": "1.2.0",
      "model_name": "LayoutModel",
      "state": {
       "width": "190px"
      }
     },
     "1f8e90fb1e9445229fb615915c4f24eb": {
      "model_module": "@jupyter-widgets/controls",
      "model_module_version": "1.5.0",
      "model_name": "HTMLModel",
      "state": {
       "layout": "IPY_MODEL_80b9c625d9a546a094ba370c6eee58f9",
       "style": "IPY_MODEL_2293c4334eec43849e231b5dd094410f",
       "value": "<p style='font-family: IBM Plex Sans, Arial, Helvetica, sans-serif; font-size: 20px; font-weight: medium;'>Circuit Properties</p>"
      }
     },
     "21facfa3fa3542398d518aa2ea3aa4f1": {
      "model_module": "@jupyter-widgets/base",
      "model_module_version": "1.2.0",
      "model_name": "LayoutModel",
      "state": {
       "width": "70px"
      }
     },
     "2293c4334eec43849e231b5dd094410f": {
      "model_module": "@jupyter-widgets/controls",
      "model_module_version": "1.5.0",
      "model_name": "DescriptionStyleModel",
      "state": {
       "description_width": ""
      }
     },
     "4b29cde5dc5c4541a8b43d2fb78142ca": {
      "model_module": "@jupyter-widgets/controls",
      "model_module_version": "1.5.0",
      "model_name": "GridBoxModel",
      "state": {
       "children": [
        "IPY_MODEL_7504f82b17b140dd9cf02350912e6583"
       ],
       "layout": "IPY_MODEL_a87a1b302a0d44f2949c51ec976e412a"
      }
     },
     "5e2ce4934b6c43e3876f16528855b2c8": {
      "model_module": "@jupyter-widgets/controls",
      "model_module_version": "1.5.0",
      "model_name": "HBoxModel",
      "state": {
       "children": [
        "IPY_MODEL_ef717061e50a4725940067990926c578",
        "IPY_MODEL_e801014cd5684117b8b185fa041a40a0",
        "IPY_MODEL_8f5fff126ffe4db5a193d9902ca066ea",
        "IPY_MODEL_f11cb442b13842cb8949d729b41d2a52",
        "IPY_MODEL_8efd8946e873487d86973249da083294"
       ],
       "layout": "IPY_MODEL_ecaa7045849f4af792583fe11ceb84c2"
      }
     },
     "5ee7852da1ca41c99da62a90e643fb87": {
      "model_module": "@jupyter-widgets/controls",
      "model_module_version": "1.5.0",
      "model_name": "DescriptionStyleModel",
      "state": {
       "description_width": ""
      }
     },
     "6871797439e64788b524787796f55bd5": {
      "model_module": "@jupyter-widgets/controls",
      "model_module_version": "1.5.0",
      "model_name": "DescriptionStyleModel",
      "state": {
       "description_width": ""
      }
     },
     "6e92322db2fe45abb43961803dfe7aad": {
      "model_module": "@jupyter-widgets/base",
      "model_module_version": "1.2.0",
      "model_name": "LayoutModel",
      "state": {
       "width": "145px"
      }
     },
     "7504f82b17b140dd9cf02350912e6583": {
      "model_module": "@jupyter-widgets/controls",
      "model_module_version": "1.5.0",
      "model_name": "ButtonModel",
      "state": {
       "button_style": "primary",
       "description": "Clear",
       "layout": "IPY_MODEL_efacd51aa7144975be85c4e91f6c411b",
       "style": "IPY_MODEL_fabb879f18764422b319f8b83ab6293d"
      }
     },
     "7ca8bf993d474e4dad90addb0c0ef0bd": {
      "model_module": "@jupyter-widgets/controls",
      "model_module_version": "1.5.0",
      "model_name": "DescriptionStyleModel",
      "state": {
       "description_width": ""
      }
     },
     "80b9c625d9a546a094ba370c6eee58f9": {
      "model_module": "@jupyter-widgets/base",
      "model_module_version": "1.2.0",
      "model_name": "LayoutModel",
      "state": {
       "margin": "0px 0px 10px 0px"
      }
     },
     "8efd8946e873487d86973249da083294": {
      "model_module": "@jupyter-widgets/controls",
      "model_module_version": "1.5.0",
      "model_name": "HTMLModel",
      "state": {
       "layout": "IPY_MODEL_c1fc64b72cc6420cb56eb008f3cbcdc0",
       "style": "IPY_MODEL_eaf4512e24764414b75c45cfdb5aef3b",
       "value": "<h5>Message</h5>"
      }
     },
     "8f5fff126ffe4db5a193d9902ca066ea": {
      "model_module": "@jupyter-widgets/controls",
      "model_module_version": "1.5.0",
      "model_name": "HTMLModel",
      "state": {
       "layout": "IPY_MODEL_ad4c423fa2304004b7e448e9abe24b36",
       "style": "IPY_MODEL_5ee7852da1ca41c99da62a90e643fb87",
       "value": "<h5>Status</h5>"
      }
     },
     "a87a1b302a0d44f2949c51ec976e412a": {
      "model_module": "@jupyter-widgets/base",
      "model_module_version": "1.2.0",
      "model_name": "LayoutModel",
      "state": {
       "grid_template_areas": "\n                                       \". . . . right \"\n                                        ",
       "grid_template_columns": "20% 20% 20% 20% 20%",
       "width": "100%"
      }
     },
     "ad4c423fa2304004b7e448e9abe24b36": {
      "model_module": "@jupyter-widgets/base",
      "model_module_version": "1.2.0",
      "model_name": "LayoutModel",
      "state": {
       "width": "95px"
      }
     },
     "bd9b22ccb372422abf632ae764f4fdf6": {
      "model_module": "@jupyter-widgets/controls",
      "model_module_version": "1.5.0",
      "model_name": "DescriptionStyleModel",
      "state": {
       "description_width": ""
      }
     },
     "c1fc64b72cc6420cb56eb008f3cbcdc0": {
      "model_module": "@jupyter-widgets/base",
      "model_module_version": "1.2.0",
      "model_name": "LayoutModel",
      "state": {}
     },
     "e801014cd5684117b8b185fa041a40a0": {
      "model_module": "@jupyter-widgets/controls",
      "model_module_version": "1.5.0",
      "model_name": "HTMLModel",
      "state": {
       "layout": "IPY_MODEL_6e92322db2fe45abb43961803dfe7aad",
       "style": "IPY_MODEL_6871797439e64788b524787796f55bd5",
       "value": "<h5>Backend</h5>"
      }
     },
     "eaf4512e24764414b75c45cfdb5aef3b": {
      "model_module": "@jupyter-widgets/controls",
      "model_module_version": "1.5.0",
      "model_name": "DescriptionStyleModel",
      "state": {
       "description_width": ""
      }
     },
     "ecaa7045849f4af792583fe11ceb84c2": {
      "model_module": "@jupyter-widgets/base",
      "model_module_version": "1.2.0",
      "model_name": "LayoutModel",
      "state": {
       "margin": "0px 0px 0px 37px",
       "width": "600px"
      }
     },
     "ef717061e50a4725940067990926c578": {
      "model_module": "@jupyter-widgets/controls",
      "model_module_version": "1.5.0",
      "model_name": "HTMLModel",
      "state": {
       "layout": "IPY_MODEL_06389953f2de4dcfa1073f6e9154de64",
       "style": "IPY_MODEL_bd9b22ccb372422abf632ae764f4fdf6",
       "value": "<h5>Job ID</h5>"
      }
     },
     "efacd51aa7144975be85c4e91f6c411b": {
      "model_module": "@jupyter-widgets/base",
      "model_module_version": "1.2.0",
      "model_name": "LayoutModel",
      "state": {
       "grid_area": "right",
       "padding": "0px 0px 0px 0px",
       "width": "70px"
      }
     },
     "f11cb442b13842cb8949d729b41d2a52": {
      "model_module": "@jupyter-widgets/controls",
      "model_module_version": "1.5.0",
      "model_name": "HTMLModel",
      "state": {
       "layout": "IPY_MODEL_21facfa3fa3542398d518aa2ea3aa4f1",
       "style": "IPY_MODEL_7ca8bf993d474e4dad90addb0c0ef0bd",
       "value": "<h5>Queue</h5>"
      }
     },
     "fabb879f18764422b319f8b83ab6293d": {
      "model_module": "@jupyter-widgets/controls",
      "model_module_version": "1.5.0",
      "model_name": "ButtonStyleModel",
      "state": {}
     }
    },
    "version_major": 2,
    "version_minor": 0
   }
  }
 },
 "nbformat": 4,
 "nbformat_minor": 5
}
